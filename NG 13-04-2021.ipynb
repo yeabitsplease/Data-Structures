{
 "cells": [
  {
   "cell_type": "code",
   "execution_count": 2,
   "metadata": {},
   "outputs": [
    {
     "name": "stdout",
     "output_type": "stream",
     "text": [
      "Hey Bittu! Good Morning.\n"
     ]
    }
   ],
   "source": [
    "print(\"Hey Bittu! Good Morning.\")"
   ]
  },
  {
   "cell_type": "code",
   "execution_count": 8,
   "metadata": {},
   "outputs": [],
   "source": [
    "if(1>2):\n",
    "    print(\"HI\")"
   ]
  },
  {
   "cell_type": "code",
   "execution_count": 9,
   "metadata": {},
   "outputs": [
    {
     "name": "stdout",
     "output_type": "stream",
     "text": [
      "21\n"
     ]
    }
   ],
   "source": [
    "bittu=21\n",
    "print(bittu)"
   ]
  },
  {
   "cell_type": "code",
   "execution_count": 12,
   "metadata": {},
   "outputs": [
    {
     "name": "stdout",
     "output_type": "stream",
     "text": [
      "Enter your age21\n",
      "<class 'str'>\n",
      "21\n"
     ]
    }
   ],
   "source": [
    "#string can be written in both single and double quotes\n",
    "bittu= input('Enter your age')\n",
    "print(type(bittu))\n",
    "print(bittu)"
   ]
  },
  {
   "cell_type": "code",
   "execution_count": 15,
   "metadata": {},
   "outputs": [
    {
     "name": "stdout",
     "output_type": "stream",
     "text": [
      "enter your age21\n",
      "<class 'int'>\n",
      "21\n"
     ]
    }
   ],
   "source": [
    "bittu= int(input('enter your age'))\n",
    "print(type(bittu))\n",
    "print(bittu)"
   ]
  },
  {
   "cell_type": "code",
   "execution_count": 16,
   "metadata": {},
   "outputs": [
    {
     "name": "stdout",
     "output_type": "stream",
     "text": [
      "enter your age21\n",
      "<class 'float'>\n",
      "21.0\n"
     ]
    }
   ],
   "source": [
    "bittu= float(input('enter your age'))\n",
    "print(type(bittu))\n",
    "print(bittu)"
   ]
  },
  {
   "cell_type": "code",
   "execution_count": 21,
   "metadata": {},
   "outputs": [
    {
     "name": "stdout",
     "output_type": "stream",
     "text": [
      "enter your namebittu\n",
      "pagal\n"
     ]
    }
   ],
   "source": [
    "name=input(\"enter your name\")\n",
    "if(name == \"bittu\"):\n",
    "    print(\"pagal\")\n",
    "elif(name == \"govuuu\"):\n",
    "    print(\"Best\")\n",
    "else:\n",
    "    print(\"Govind's the best\")"
   ]
  },
  {
   "cell_type": "code",
   "execution_count": null,
   "metadata": {},
   "outputs": [],
   "source": [
    "bittu=4\n",
    "Bittu=5\n",
    "print(bittu)\n",
    "print(Bittu)\n"
   ]
  },
  {
   "cell_type": "code",
   "execution_count": 24,
   "metadata": {},
   "outputs": [
    {
     "name": "stdout",
     "output_type": "stream",
     "text": [
      "Enter first number20\n",
      "Enter second number10\n",
      "Before swap\n",
      "20\n",
      "10\n",
      "after swap\n",
      "10\n",
      "20\n"
     ]
    }
   ],
   "source": [
    "a = int(input(\"Enter first number\"))\n",
    "b = int(input(\"Enter second number\"))\n",
    "print(\"Before swap\")\n",
    "print(a)\n",
    "print(b)\n",
    "c = a\n",
    "a = b\n",
    "b = c\n",
    "print(\"after swap\")\n",
    "print(a)\n",
    "print(b)\n"
   ]
  },
  {
   "cell_type": "code",
   "execution_count": null,
   "metadata": {},
   "outputs": [],
   "source": [
    "a = int(input(\"Enter first number\"))\n",
    "b = int(input(\"Enter second number\"))\n",
    "print(\"Before swap\")\n",
    "print(a)\n",
    "print(b)\n",
    "a = a + b\n",
    "b = a - b\n",
    "a = a - b\n",
    "print(\"after swap\")\n",
    "print(a)\n",
    "print(b)"
   ]
  },
  {
   "cell_type": "code",
   "execution_count": null,
   "metadata": {},
   "outputs": [],
   "source": [
    "age = int(input(\"Enter your age\"))\n",
    "if(age >= 18):\n",
    "    print(\"Eligible to vote!\")\n",
    "else:\n",
    "    print(\"Not eligible to vote!\")"
   ]
  },
  {
   "cell_type": "code",
   "execution_count": null,
   "metadata": {},
   "outputs": [],
   "source": [
    "age = int(input(\"Enter your age\"))\n",
    "if(age >= 18):\n",
    "    print(\"Eligible to vote!\")\n",
    "else:\n",
    "    print(\"Not eligible to vote!\")"
   ]
  },
  {
   "cell_type": "code",
   "execution_count": null,
   "metadata": {},
   "outputs": [],
   "source": [
    "english = int(input(\"Enter english marks: \"))\n",
    "hindi = int(input(\"Enter hindi marks: \"))\n",
    "maths = int(input(\"Enter maths marks: \"))\n",
    "science = int(input(\"Enter science marks: \"))\n",
    "sst = int(input(\"Enter sst marks: \"))\n",
    "\n",
    "average = (english + hindi + maths + science + sst)/5\n",
    "print(\"Average is: \"+ str(average))\n",
    "\n",
    "if(average >= 90):\n",
    "    print(\"A1\")\n",
    "elif(average >= 80 and average < 90):\n",
    "    print(\"A2\")\n",
    "elif(average >= 70 and average < 80):\n",
    "    print(\"B1\")\n",
    "elif(average >= 60 and average < 70):\n",
    "    print(\"B2\")\n",
    "elif(average >= 50 and average < 60):\n",
    "    print(\"C\")\n",
    "elif(average >= 40 and average < 50):\n",
    "    print(\"D\")\n",
    "else:\n",
    "    print(\"FAIL!! ahah\")"
   ]
  },
  {
   "cell_type": "code",
   "execution_count": null,
   "metadata": {},
   "outputs": [],
   "source": [
    "number = int(input(\"Enter a number\"))\n",
    "if(number % 2 == 0):\n",
    "    print(\"Number is even.\")\n",
    "else:\n",
    "    print(\"Number is odd.\")\n",
    "\n"
   ]
  },
  {
   "cell_type": "code",
   "execution_count": null,
   "metadata": {},
   "outputs": [],
   "source": [
    "number = float(input(\"Enter a number\"))\n",
    "if(number > 0):\n",
    "    print(\"{0} is a {1} positive number. \".format(number, \"Bittu\"))\n",
    "elif number == 0:  \n",
    "   print(\"{0} is zero\".format(number))   \n",
    "else:  \n",
    "   print(\"{0} is negative number\".format(number))   "
   ]
  }
 ],
 "metadata": {
  "kernelspec": {
   "display_name": "Python 3",
   "language": "python",
   "name": "python3"
  },
  "language_info": {
   "codemirror_mode": {
    "name": "ipython",
    "version": 3
   },
   "file_extension": ".py",
   "mimetype": "text/x-python",
   "name": "python",
   "nbconvert_exporter": "python",
   "pygments_lexer": "ipython3",
   "version": "3.8.3"
  }
 },
 "nbformat": 4,
 "nbformat_minor": 4
}
